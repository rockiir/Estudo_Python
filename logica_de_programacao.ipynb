{
  "nbformat": 4,
  "nbformat_minor": 0,
  "metadata": {
    "colab": {
      "provenance": [],
      "name": "logica-de-programacao.ipynb",
      "collapsed_sections": [
        "rKVHefyf7-Hi",
        "sqX3aec78IK3",
        "HIs45oMVA86r",
        "IkC-y0d1CECK",
        "qz1Pp8nHCbyK",
        "JCdz2G30DET5",
        "gXMecHPPDygY",
        "JV2Dy4buD3l4",
        "qzPoO987E_Jw",
        "EDjHHN7dF0cU",
        "IsAtNBopF7js",
        "jM0MJsFKG1wR",
        "PZRb7FZwHpTh",
        "opIZFxCvHnIh"
      ],
      "authorship_tag": "ABX9TyP4v58f95tJ9+q1Ii9/u1XU",
      "include_colab_link": true
    },
    "kernelspec": {
      "name": "python3",
      "display_name": "Python 3"
    },
    "language_info": {
      "name": "python"
    }
  },
  "cells": [
    {
      "cell_type": "markdown",
      "metadata": {
        "id": "view-in-github",
        "colab_type": "text"
      },
      "source": [
        "<a href=\"https://colab.research.google.com/github/rockiir/Estudo_Python/blob/main/logica_de_programacao.ipynb\" target=\"_parent\"><img src=\"https://colab.research.google.com/assets/colab-badge.svg\" alt=\"Open In Colab\"/></a>"
      ]
    },
    {
      "cell_type": "markdown",
      "source": [
        "#Lógica de programação Basica\n",
        "\n",
        "By: [Luiz Otávio Miranda](https://beacons.ai/otaviomiranda)"
      ],
      "metadata": {
        "id": "vt3mGKJa_Qa6"
      }
    },
    {
      "cell_type": "markdown",
      "source": [
        "## Coerção de tipos\n",
        "Conversão de tipos, coerção\n",
        "type convertion, typecasting, coercion\n",
        "é o ato de converter um tipo em outro\n",
        "tipos imutáveis e primitivos:\n",
        "Str, int, float, bool"
      ],
      "metadata": {
        "id": "rKVHefyf7-Hi"
      }
    },
    {
      "cell_type": "code",
      "execution_count": 1,
      "metadata": {
        "id": "VNHtTqcaZvwI",
        "colab": {
          "base_uri": "https://localhost:8080/"
        },
        "outputId": "0d1dc2f9-662b-49fb-c84b-f3725001a23a"
      },
      "outputs": [
        {
          "output_type": "stream",
          "name": "stdout",
          "text": [
            "1 <class 'int'>\n",
            "<class 'float'>\n",
            "True\n",
            "11b\n"
          ]
        }
      ],
      "source": [
        "print(int('1'), type(int('1')))\n",
        "print(type(float('1') + 1))\n",
        "print(bool(' '))\n",
        "print(str(11) + 'b')"
      ]
    },
    {
      "cell_type": "markdown",
      "source": [
        " ## Introdução as Variaveis\n",
        " Variáveis são usadas para salvar algo na memória do computador.\n",
        "\n",
        "** PEP8**: inicie variáveis com letras minúsculas, pode usar\n",
        " números e underline _.\n",
        "\n",
        " O sinal de = é o operador de atribuição. Ele é usado para\n",
        " atribuir um valor a um nome (variável).\n",
        " Uso: nome_variavel = expressão\n",
        "\n",
        "\n",
        "\n"
      ],
      "metadata": {
        "id": "sqX3aec78IK3"
      }
    },
    {
      "cell_type": "code",
      "source": [
        "nome_completo = 'Luiz Otávio Miranda'\n",
        "soma_dois_mais_dois = 2 + 2\n",
        "int_um = bool('1')\n",
        "print(int_um, type(int_um))\n",
        "print(nome_completo, soma_dois_mais_dois)"
      ],
      "metadata": {
        "colab": {
          "base_uri": "https://localhost:8080/"
        },
        "id": "v4DA9pRy-QuV",
        "outputId": "9d2b58ab-82cb-4dd8-ebfb-94d735dc2aa8"
      },
      "execution_count": 2,
      "outputs": [
        {
          "output_type": "stream",
          "name": "stdout",
          "text": [
            "True <class 'bool'>\n",
            "Luiz Otávio Miranda 4\n"
          ]
        }
      ]
    },
    {
      "cell_type": "code",
      "source": [
        "nome = 'Luiz'\n",
        "idade = 19\n",
        "maior_de_idade = idade >= 18\n",
        "print('Nome:', nome, 'Idade:', idade)\n",
        "print('É maior?', maior_de_idade)"
      ],
      "metadata": {
        "colab": {
          "base_uri": "https://localhost:8080/"
        },
        "id": "dODLqAib-RyK",
        "outputId": "73eaf3d8-2a43-4789-f374-6104ec4b1514"
      },
      "execution_count": 3,
      "outputs": [
        {
          "output_type": "stream",
          "name": "stdout",
          "text": [
            "Nome: Luiz Idade: 19\n",
            "É maior? True\n"
          ]
        }
      ]
    },
    {
      "cell_type": "markdown",
      "source": [
        "Exercicio - variaveis e tipos de dados\n",
        "\n"
      ],
      "metadata": {
        "id": "6j8kNkvuAfr-"
      }
    },
    {
      "cell_type": "code",
      "source": [
        "nome = 'Raquel'\n",
        "sobrenome = 'Matos'\n",
        "idade = 28\n",
        "ano_nascimento = 2023 - idade\n",
        "maior_de_idade = idade >= 18\n",
        "altura_metros = 1.81\n",
        "\n",
        "print('Nome:', nome)\n",
        "print('Sobrenome:', sobrenome)\n",
        "print('Idade:', idade)\n",
        "print('Ano de nascimento:', ano_nascimento)\n",
        "print('É maior de idade?', maior_de_idade)\n",
        "print('Altura em metros:', altura_metros)"
      ],
      "metadata": {
        "colab": {
          "base_uri": "https://localhost:8080/"
        },
        "id": "-KvqclOwAiDL",
        "outputId": "57a45a4d-188e-4cc0-9c0d-892af89b7a45"
      },
      "execution_count": 4,
      "outputs": [
        {
          "output_type": "stream",
          "name": "stdout",
          "text": [
            "Nome: Raquel\n",
            "Sobrenome: Matos\n",
            "Idade: 28\n",
            "Ano de nascimento: 1995\n",
            "É maior de idade? True\n",
            "Altura em metros: 1.81\n"
          ]
        }
      ]
    },
    {
      "cell_type": "markdown",
      "source": [
        "##Operadores aritiméticos"
      ],
      "metadata": {
        "id": "HIs45oMVA86r"
      }
    },
    {
      "cell_type": "code",
      "source": [
        "adicao = 10 + 10\n",
        "print('Adição', adicao)\n",
        "\n",
        "subtracao = 10 - 5\n",
        "print('Subtração', subtracao)\n",
        "\n",
        "multiplicacao = 10 * 10\n",
        "print('Multiplicação', multiplicacao)\n",
        "\n",
        "divisao = 10 / 3  # float\n",
        "print('Divisão', divisao)\n",
        "\n",
        "divisao_inteira = 10 // 3\n",
        "print('Divisão inteira', divisao_inteira)\n",
        "\n",
        "exponenciacao = 2 ** 10\n",
        "print('Exponenciação', exponenciacao)\n",
        "\n",
        "modulo = 55 % 2  # resto da divisão\n",
        "print('Módulo', modulo)\n",
        "\n",
        "print(10 % 8 == 0)\n",
        "print(16 % 8 == 0)\n",
        "print(10 % 2 == 0)\n",
        "print(15 % 2 == 0)\n",
        "print(16 % 2 == 0)"
      ],
      "metadata": {
        "colab": {
          "base_uri": "https://localhost:8080/"
        },
        "id": "pkPiNECEAjZV",
        "outputId": "b7f1668b-01ff-47af-be6f-d4d78f355e46"
      },
      "execution_count": 5,
      "outputs": [
        {
          "output_type": "stream",
          "name": "stdout",
          "text": [
            "Adição 20\n",
            "Subtração 5\n",
            "Multiplicação 100\n",
            "Divisão 3.3333333333333335\n",
            "Divisão inteira 3\n",
            "Exponenciação 1024\n",
            "Módulo 1\n",
            "False\n",
            "True\n",
            "True\n",
            "False\n",
            "True\n"
          ]
        }
      ]
    },
    {
      "cell_type": "markdown",
      "source": [
        "##Concatenação e Repetição"
      ],
      "metadata": {
        "id": "IkC-y0d1CECK"
      }
    },
    {
      "cell_type": "code",
      "source": [
        "concatenacao = 'Luiz' + ' ' + 'Otávio'\n",
        "print(concatenacao)\n",
        "\n",
        "a_dez_vezes = 'A' * 10\n",
        "tres_vezes_luiz = 3 * 'Luiz'\n",
        "print(a_dez_vezes)\n",
        "print(tres_vezes_luiz)"
      ],
      "metadata": {
        "colab": {
          "base_uri": "https://localhost:8080/"
        },
        "id": "FNluVMpVCJfL",
        "outputId": "1bd6a150-6e35-4a1f-9ca9-284bb2efc827"
      },
      "execution_count": 6,
      "outputs": [
        {
          "output_type": "stream",
          "name": "stdout",
          "text": [
            "Luiz Otávio\n",
            "AAAAAAAAAA\n",
            "LuizLuizLuiz\n"
          ]
        }
      ]
    },
    {
      "cell_type": "markdown",
      "source": [
        "##Precedencia entre os operadores Aritméticos"
      ],
      "metadata": {
        "id": "qz1Pp8nHCbyK"
      }
    },
    {
      "cell_type": "code",
      "source": [
        "# 1. (n + n)\n",
        "# 2. **\n",
        "# 3. * / // %\n",
        "# 4. + -\n",
        "conta_1 = (1 + int(0.5 + 0.5)) ** (5 + 5)\n",
        "print(conta_1)"
      ],
      "metadata": {
        "colab": {
          "base_uri": "https://localhost:8080/"
        },
        "id": "pMMjcNAyCkKt",
        "outputId": "dc825e67-711d-42e6-d964-20f9f05a4785"
      },
      "execution_count": 7,
      "outputs": [
        {
          "output_type": "stream",
          "name": "stdout",
          "text": [
            "1024\n"
          ]
        }
      ]
    },
    {
      "cell_type": "markdown",
      "source": [
        "### Exercicio IMC\n",
        "\n",
        "\n"
      ],
      "metadata": {
        "id": "dYRWGugYCtwj"
      }
    },
    {
      "cell_type": "code",
      "source": [
        "nome = 'Raquel'\n",
        "altura = 1.81\n",
        "peso = 75\n",
        "imc = peso / altura ** 2\n",
        "\n",
        "print(nome, 'tem', altura, 'de altura,',)\n",
        "print('pesa', peso, 'quilos e seu imc é',)\n",
        "print(imc)"
      ],
      "metadata": {
        "colab": {
          "base_uri": "https://localhost:8080/"
        },
        "id": "PHNK-wEoCsUq",
        "outputId": "a67700ca-4ebe-43e4-cf8a-fd51ab0a6e8d"
      },
      "execution_count": 8,
      "outputs": [
        {
          "output_type": "stream",
          "name": "stdout",
          "text": [
            "Raquel tem 1.81 de altura,\n",
            "pesa 75 quilos e seu imc é\n",
            "22.89307408198773\n"
          ]
        }
      ]
    },
    {
      "cell_type": "markdown",
      "source": [
        "##Formatação de Strings"
      ],
      "metadata": {
        "id": "bHtlMwbMDsSa"
      }
    },
    {
      "cell_type": "markdown",
      "source": [
        "### F-Strings (formatação de strings)\n"
      ],
      "metadata": {
        "id": "JCdz2G30DET5"
      }
    },
    {
      "cell_type": "code",
      "source": [
        "nome = 'Luiz Otávio'\n",
        "altura = 1.80\n",
        "peso = 95\n",
        "imc = peso / altura ** 2\n",
        "\n",
        "\"f-strings\"\n",
        "linha_1 = f'{nome} tem {altura:.2f} de altura,'\n",
        "linha_2 = f'pesa {peso} quilos e seu imc é'\n",
        "linha_3 = f'{imc:.2f}'\n",
        "\n",
        "print(linha_1)\n",
        "print(linha_2)\n",
        "print(linha_3)"
      ],
      "metadata": {
        "colab": {
          "base_uri": "https://localhost:8080/"
        },
        "id": "jwws2ERLDLf2",
        "outputId": "7e1ef5ae-b0d0-4f05-bd59-9a45f6d97687"
      },
      "execution_count": 9,
      "outputs": [
        {
          "output_type": "stream",
          "name": "stdout",
          "text": [
            "Luiz Otávio tem 1.80 de altura,\n",
            "pesa 95 quilos e seu imc é\n",
            "29.32\n"
          ]
        }
      ]
    },
    {
      "cell_type": "markdown",
      "source": [
        "### Formatação de strings com método format"
      ],
      "metadata": {
        "id": "gXMecHPPDygY"
      }
    },
    {
      "cell_type": "code",
      "source": [
        "a = 'AAAAA'\n",
        "b = 'BBBBBB'\n",
        "c = 1.1\n",
        "string = 'b={nome2} a={nome1} a={nome1} c={nome3:.2f}'\n",
        "formato = string.format(\n",
        "    nome1=a, nome2=b, nome3=c\n",
        ")\n",
        "\n",
        "print(formato)"
      ],
      "metadata": {
        "colab": {
          "base_uri": "https://localhost:8080/"
        },
        "id": "V_t8VaJ_D4ah",
        "outputId": "867489a8-7c51-48ab-9108-43887bbf23ca"
      },
      "execution_count": 10,
      "outputs": [
        {
          "output_type": "stream",
          "name": "stdout",
          "text": [
            "b=BBBBBB a=AAAAA a=AAAAA c=1.10\n"
          ]
        }
      ]
    },
    {
      "cell_type": "markdown",
      "source": [
        "## Input"
      ],
      "metadata": {
        "id": "JV2Dy4buD3l4"
      }
    },
    {
      "cell_type": "code",
      "source": [
        "numero_1 = input('Digite um número: ')\n",
        "numero_2 = input('Digite outro número: ')\n",
        "\n",
        "int_numero_1 = int(numero_1)\n",
        "int_numero_2 = int(numero_2)\n",
        "\n",
        "print(f'A soma dos números é: {int_numero_1 + int_numero_2}')"
      ],
      "metadata": {
        "colab": {
          "base_uri": "https://localhost:8080/"
        },
        "id": "UgvOjdkKEXpB",
        "outputId": "d85f9621-86bb-4008-e3b1-3ecb2e6d9c23"
      },
      "execution_count": 11,
      "outputs": [
        {
          "output_type": "stream",
          "name": "stdout",
          "text": [
            "Digite um número: 2\n",
            "Digite outro número: 2\n",
            "A soma dos números é: 4\n"
          ]
        }
      ]
    },
    {
      "cell_type": "markdown",
      "source": [
        "## Condicionais (if,Elif, Else)"
      ],
      "metadata": {
        "id": "qzPoO987E_Jw"
      }
    },
    {
      "cell_type": "code",
      "source": [
        "entrada = input('Você quer \"entrar\" ou \"sair\"? ')\n",
        "\n",
        "if entrada == 'entrar':\n",
        "    print('Você entrou no sistema')\n",
        "\n",
        "    print(12341234)\n",
        "elif entrada == 'sair':\n",
        "    print('Você saiu do sistema')\n",
        "else:\n",
        "    print('Você não digitou nem entrar e nem sair.')\n",
        "\n",
        "print('FORA DOS BLOCOS')"
      ],
      "metadata": {
        "colab": {
          "base_uri": "https://localhost:8080/"
        },
        "id": "8M5QrimOFJpi",
        "outputId": "6f777842-82a7-4b5b-954b-e9975ec7889d"
      },
      "execution_count": 12,
      "outputs": [
        {
          "output_type": "stream",
          "name": "stdout",
          "text": [
            "Você quer \"entrar\" ou \"sair\"? entrar\n",
            "Você entrou no sistema\n",
            "12341234\n",
            "FORA DOS BLOCOS\n"
          ]
        }
      ]
    },
    {
      "cell_type": "code",
      "source": [
        "condicao1 = True\n",
        "condicao2 = True\n",
        "condicao3 = True\n",
        "condicao4 = True\n",
        "\n",
        "if condicao1:\n",
        "    print('Código para condição 1')\n",
        "    print('Código para condição 1')\n",
        "elif condicao2:\n",
        "    print('Código para condição 2')\n",
        "elif condicao3:\n",
        "    print('Código para condição 3')\n",
        "elif condicao4:\n",
        "    print('Código para condição 4')\n",
        "else:\n",
        "    print('Nenhuma condição foi satisfeita.')\n",
        "\n",
        "if 10 == 10:\n",
        "    print('Outro if')\n",
        "\n",
        "print('Fora do if')"
      ],
      "metadata": {
        "colab": {
          "base_uri": "https://localhost:8080/"
        },
        "id": "vJ9msZEMFaNS",
        "outputId": "a9c7a85f-79b7-4143-fa38-5f818f01dad4"
      },
      "execution_count": 13,
      "outputs": [
        {
          "output_type": "stream",
          "name": "stdout",
          "text": [
            "Código para condição 1\n",
            "Código para condição 1\n",
            "Outro if\n",
            "Fora do if\n"
          ]
        }
      ]
    },
    {
      "cell_type": "markdown",
      "source": [],
      "metadata": {
        "id": "anrNlqqeFWAx"
      }
    },
    {
      "cell_type": "markdown",
      "source": [
        "##Operadores Relacionais"
      ],
      "metadata": {
        "id": "EDjHHN7dF0cU"
      }
    },
    {
      "cell_type": "markdown",
      "source": [
        "### Operadores de comparação (relacionais)\n",
        "\n",
        "OP      Significado         Exemplo (True)\n",
        "\n",
        "\">\"       maior               2 > 1\n",
        "\n",
        "\">\"=      maior ou igual      2 >= 2\n",
        "\n",
        "<       menor               1 < 2\n",
        "\n",
        "<=      menor ou igual      2 <= 2\n",
        "\n",
        "==      igual               'a' == 'a'\n",
        "\n",
        "!=      diferente           'a' != 'b'\n"
      ],
      "metadata": {
        "id": "IsAtNBopF7js"
      }
    },
    {
      "cell_type": "code",
      "source": [
        "maior = 2 > 3\n",
        "maior_ou_igual = 2 >= 2\n",
        "menor = 1 < 2\n",
        "menor_ou_igual = 2 <= 2\n",
        "igual = 'a' == 'a'\n",
        "diferente = 'a' != 'b'\n",
        "print(maior, maior_ou_igual, menor, maior_ou_igual, igual, diferente)"
      ],
      "metadata": {
        "colab": {
          "base_uri": "https://localhost:8080/"
        },
        "id": "UvdoWuSbF3QU",
        "outputId": "d6bc2a98-e280-4665-b39b-7fc87bb67063"
      },
      "execution_count": 14,
      "outputs": [
        {
          "output_type": "stream",
          "name": "stdout",
          "text": [
            "False True True True True True\n"
          ]
        }
      ]
    },
    {
      "cell_type": "markdown",
      "source": [
        "## Operador Lógico"
      ],
      "metadata": {
        "id": "jM0MJsFKG1wR"
      }
    },
    {
      "cell_type": "code",
      "source": [
        "# Operadores lógicos\n",
        "# and (e) or (ou) not (não)\n",
        "# and - Todas as condições precisam ser\n",
        "# verdadeiras.\n",
        "# Se qualquer valor for considerado falso,\n",
        "# a expressão inteira será avaliada naquele valor\n",
        "# São considerados falsy (que vc já viu)\n",
        "# 0 0.0 '' False\n",
        "# Também existe o tipo None que é\n",
        "# usado para representar um não valor\n",
        "\n",
        "# Avaliação de curto circuito\n",
        "print(True and False and True)\n",
        "print(True and 0 and True)"
      ],
      "metadata": {
        "colab": {
          "base_uri": "https://localhost:8080/"
        },
        "id": "Fnlli8jVG1Lg",
        "outputId": "b9c616b5-6f65-41fd-aafe-ea824ffdde04"
      },
      "execution_count": 15,
      "outputs": [
        {
          "output_type": "stream",
          "name": "stdout",
          "text": [
            "False\n",
            "0\n"
          ]
        }
      ]
    },
    {
      "cell_type": "code",
      "source": [
        "entrada = input('[E]ntrar [S]air: ')\n",
        "senha_digitada = input('Senha: ')\n",
        "\n",
        "senha_permitida = '123456'\n",
        "\n",
        "if entrada == 'E' and senha_digitada == senha_permitida:\n",
        "     print('Entrar')\n",
        "else:\n",
        "     print('Senha Incorreta')"
      ],
      "metadata": {
        "colab": {
          "base_uri": "https://localhost:8080/"
        },
        "id": "JEN3rew9HDnn",
        "outputId": "c3995802-c856-4712-d71a-4031c63c87bf"
      },
      "execution_count": 16,
      "outputs": [
        {
          "output_type": "stream",
          "name": "stdout",
          "text": [
            "[E]ntrar [S]air: E\n",
            "Senha: 2222\n",
            "Senha Incorreta\n"
          ]
        }
      ]
    },
    {
      "cell_type": "markdown",
      "source": [
        "## Operadores In e Not In"
      ],
      "metadata": {
        "id": "PZRb7FZwHpTh"
      }
    },
    {
      "cell_type": "code",
      "source": [
        "# Operadores in e not in\n",
        "# Strings são iteráveis\n",
        "#  0 1 2 3 4 5\n",
        "#  O t á v i o\n",
        "# -6-5-4-3-2-1\n",
        "# nome = 'Otávio'\n",
        "# print(nome[2])\n",
        "# print(nome[-4])\n",
        "# print('vio' in nome)\n",
        "# print('zero' in nome)\n",
        "# print(10 * '-')\n",
        "# print('vio' not in nome)\n",
        "# print('zero' not in nome)\n",
        "\n",
        "nome = input('Digite seu nome: ')\n",
        "encontrar = input('Digite o que deseja encontrar: ')\n",
        "\n",
        "if encontrar in nome:\n",
        "    print(f'{encontrar} está em {nome}')\n",
        "else:\n",
        "    print(f'{encontrar} não está em {nome}')"
      ],
      "metadata": {
        "colab": {
          "base_uri": "https://localhost:8080/"
        },
        "id": "of0j4N5aHs31",
        "outputId": "7771f4a9-281e-44f0-e8ad-157c27ddd38a"
      },
      "execution_count": 17,
      "outputs": [
        {
          "output_type": "stream",
          "name": "stdout",
          "text": [
            "Digite seu nome: Raquel\n",
            "Digite o que deseja encontrar: q\n",
            "q está em Raquel\n"
          ]
        }
      ]
    },
    {
      "cell_type": "markdown",
      "source": [
        "\n",
        "##Fatiamento de Strings\n",
        "\n"
      ],
      "metadata": {
        "id": "opIZFxCvHnIh"
      }
    },
    {
      "cell_type": "code",
      "source": [
        "\"\"\"\n",
        "Fatiamento de strings\n",
        " 012345678\n",
        " Olá mundo\n",
        "-987654321\n",
        "Fatiamento [i:f:p] [::]\n",
        "Obs.: a função len retorna a qtd\n",
        "de caracteres da str\n",
        "\"\"\"\n",
        "variavel = 'Olá mundo'\n",
        "print(variavel[::-1])"
      ],
      "metadata": {
        "colab": {
          "base_uri": "https://localhost:8080/"
        },
        "id": "SBYdVx3pIPRa",
        "outputId": "daee6783-7aa1-49b8-d849-9ad35b479dd1"
      },
      "execution_count": 18,
      "outputs": [
        {
          "output_type": "stream",
          "name": "stdout",
          "text": [
            "odnum álO\n"
          ]
        }
      ]
    }
  ]
}