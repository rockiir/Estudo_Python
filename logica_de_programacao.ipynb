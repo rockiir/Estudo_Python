{
  "nbformat": 4,
  "nbformat_minor": 0,
  "metadata": {
    "colab": {
      "provenance": [],
      "name": "logica-de-programacao.ipynb",
      "authorship_tag": "ABX9TyN4NhilYYhh25Jdc2rBHYuS",
      "include_colab_link": true
    },
    "kernelspec": {
      "name": "python3",
      "display_name": "Python 3"
    },
    "language_info": {
      "name": "python"
    }
  },
  "cells": [
    {
      "cell_type": "markdown",
      "metadata": {
        "id": "view-in-github",
        "colab_type": "text"
      },
      "source": [
        "<a href=\"https://colab.research.google.com/github/rockiir/Estudo_Python/blob/main/logica_de_programacao.ipynb\" target=\"_parent\"><img src=\"https://colab.research.google.com/assets/colab-badge.svg\" alt=\"Open In Colab\"/></a>"
      ]
    },
    {
      "cell_type": "markdown",
      "source": [
        "#Lógica de programação Basica\n",
        "\n",
        "By: [Luiz Otávio Miranda](https://beacons.ai/otaviomiranda)"
      ],
      "metadata": {
        "id": "vt3mGKJa_Qa6"
      }
    },
    {
      "cell_type": "markdown",
      "source": [
        "## Coerção de tipos\n",
        "Conversão de tipos, coerção\n",
        "type convertion, typecasting, coercion\n",
        "é o ato de converter um tipo em outro\n",
        "tipos imutáveis e primitivos:\n",
        "Str, int, float, bool"
      ],
      "metadata": {
        "id": "rKVHefyf7-Hi"
      }
    },
    {
      "cell_type": "code",
      "execution_count": 1,
      "metadata": {
        "id": "VNHtTqcaZvwI",
        "colab": {
          "base_uri": "https://localhost:8080/"
        },
        "outputId": "57a9cefb-b296-4b3d-9874-049475aa57ed"
      },
      "outputs": [
        {
          "output_type": "stream",
          "name": "stdout",
          "text": [
            "1 <class 'int'>\n",
            "<class 'float'>\n",
            "True\n",
            "11b\n"
          ]
        }
      ],
      "source": [
        "print(int('1'), type(int('1')))\n",
        "print(type(float('1') + 1))\n",
        "print(bool(' '))\n",
        "print(str(11) + 'b')"
      ]
    },
    {
      "cell_type": "markdown",
      "source": [
        " ## Introdução as Variaveis\n",
        " Variáveis são usadas para salvar algo na memória do computador.\n",
        "\n",
        "** PEP8**: inicie variáveis com letras minúsculas, pode usar\n",
        " números e underline _.\n",
        "\n",
        " O sinal de = é o operador de atribuição. Ele é usado para\n",
        " atribuir um valor a um nome (variável).\n",
        " Uso: nome_variavel = expressão\n",
        "\n",
        "\n",
        "\n"
      ],
      "metadata": {
        "id": "sqX3aec78IK3"
      }
    },
    {
      "cell_type": "code",
      "source": [
        "nome_completo = 'Luiz Otávio Miranda'\n",
        "soma_dois_mais_dois = 2 + 2\n",
        "int_um = bool('1')\n",
        "print(int_um, type(int_um))\n",
        "print(nome_completo, soma_dois_mais_dois)"
      ],
      "metadata": {
        "colab": {
          "base_uri": "https://localhost:8080/"
        },
        "id": "v4DA9pRy-QuV",
        "outputId": "f29a43f4-7e7b-4d59-ada6-3c8251e395f3"
      },
      "execution_count": 2,
      "outputs": [
        {
          "output_type": "stream",
          "name": "stdout",
          "text": [
            "True <class 'bool'>\n",
            "Luiz Otávio Miranda 4\n"
          ]
        }
      ]
    },
    {
      "cell_type": "code",
      "source": [
        "nome = 'Luiz'\n",
        "idade = 19\n",
        "maior_de_idade = idade >= 18\n",
        "print('Nome:', nome, 'Idade:', idade)\n",
        "print('É maior?', maior_de_idade)"
      ],
      "metadata": {
        "colab": {
          "base_uri": "https://localhost:8080/"
        },
        "id": "dODLqAib-RyK",
        "outputId": "ace95cf7-199e-4db0-d994-b97e436cf199"
      },
      "execution_count": 4,
      "outputs": [
        {
          "output_type": "stream",
          "name": "stdout",
          "text": [
            "Nome: Luiz Idade: 19\n",
            "É maior? True\n"
          ]
        }
      ]
    }
  ]
}