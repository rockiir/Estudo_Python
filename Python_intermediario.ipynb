{
  "nbformat": 4,
  "nbformat_minor": 0,
  "metadata": {
    "colab": {
      "provenance": [],
      "authorship_tag": "ABX9TyOHEjrIhaTpCgAu007PW8XB",
      "include_colab_link": true
    },
    "kernelspec": {
      "name": "python3",
      "display_name": "Python 3"
    },
    "language_info": {
      "name": "python"
    }
  },
  "cells": [
    {
      "cell_type": "markdown",
      "metadata": {
        "id": "view-in-github",
        "colab_type": "text"
      },
      "source": [
        "<a href=\"https://colab.research.google.com/github/rockiir/Estudo_Python/blob/main/Python_intermediario.ipynb\" target=\"_parent\"><img src=\"https://colab.research.google.com/assets/colab-badge.svg\" alt=\"Open In Colab\"/></a>"
      ]
    },
    {
      "cell_type": "markdown",
      "source": [
        "#Python intermediario\n",
        "\n",
        "Seção 4: Python Intermediário - Funções, Dicionários, Módulos, Programação Funcional e +\n",
        "\n",
        "Professor [Luiz Otávio Miranda](https://www.linkedin.com/in/otaviomirandabr/?locale=pt_BR)\n",
        "\n"
      ],
      "metadata": {
        "id": "YlX6iT68tsaE"
      }
    },
    {
      "cell_type": "markdown",
      "source": [
        "## Funções de primeira classe - Higher Order Functions\n",
        "Higher Order Functions - Funções que podem receber e/ou retornar outras funções\n",
        "\n",
        "First-Class Functions - Funções que são tratadas como outros tipos de dados comuns (strings, inteiros, etc...)\n"
      ],
      "metadata": {
        "id": "Uqz7CxfguX5U"
      }
    },
    {
      "cell_type": "code",
      "execution_count": 1,
      "metadata": {
        "colab": {
          "base_uri": "https://localhost:8080/"
        },
        "id": "MxMBJgirtiLF",
        "outputId": "a98514f3-2a4b-403e-cb26-ddc9e0e8fa21"
      },
      "outputs": [
        {
          "output_type": "stream",
          "name": "stdout",
          "text": [
            "Bom dia, Luiz!\n",
            "Boa noite, Maria!\n"
          ]
        }
      ],
      "source": [
        "\n",
        "def saudacao(msg, nome):\n",
        "    return f'{msg}, {nome}!'\n",
        "\n",
        "\n",
        "def executa(funcao, *args):\n",
        "    return funcao(*args)\n",
        "\n",
        "\n",
        "print(\n",
        "    executa(saudacao, 'Bom dia', 'Luiz')\n",
        ")\n",
        "print(\n",
        "    executa(saudacao, 'Boa noite', 'Maria')\n",
        ")\n"
      ]
    },
    {
      "cell_type": "code",
      "source": [
        "\"\"\"\n",
        "Closure e funções que retornam outras funções\n",
        "\"\"\"\n",
        "\n",
        "\n",
        "def criar_saudacao(saudacao):\n",
        "    def saudar(nome):\n",
        "        return f'{saudacao}, {nome}!'\n",
        "    return saudar\n",
        "\n",
        "\n",
        "falar_bom_dia = criar_saudacao('Bom dia')\n",
        "falar_boa_noite = criar_saudacao('Boa noite')\n",
        "\n",
        "for nome in ['Maria', 'Joana', 'Luiz']:\n",
        "    print(falar_bom_dia(nome))\n",
        "    print(falar_boa_noite(nome))"
      ],
      "metadata": {
        "colab": {
          "base_uri": "https://localhost:8080/"
        },
        "id": "7OmMlJXAu6ss",
        "outputId": "fd649498-d4bc-4afe-bfa5-513768fee379"
      },
      "execution_count": 2,
      "outputs": [
        {
          "output_type": "stream",
          "name": "stdout",
          "text": [
            "Bom dia, Maria!\n",
            "Boa noite, Maria!\n",
            "Bom dia, Joana!\n",
            "Boa noite, Joana!\n",
            "Bom dia, Luiz!\n",
            "Boa noite, Luiz!\n"
          ]
        }
      ]
    },
    {
      "cell_type": "code",
      "source": [],
      "metadata": {
        "id": "Olap3Z4l0j6G"
      },
      "execution_count": null,
      "outputs": []
    }
  ]
}