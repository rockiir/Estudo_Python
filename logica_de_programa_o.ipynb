{
  "nbformat": 4,
  "nbformat_minor": 0,
  "metadata": {
    "colab": {
      "provenance": [],
      "authorship_tag": "ABX9TyP/LlNFR/PRcgeGXoPaBx09",
      "include_colab_link": true
    },
    "kernelspec": {
      "name": "python3",
      "display_name": "Python 3"
    },
    "language_info": {
      "name": "python"
    }
  },
  "cells": [
    {
      "cell_type": "markdown",
      "metadata": {
        "id": "view-in-github",
        "colab_type": "text"
      },
      "source": [
        "<a href=\"https://colab.research.google.com/github/rockiir/Estudo_Python/blob/main/logica_de_programa_o.ipynb\" target=\"_parent\"><img src=\"https://colab.research.google.com/assets/colab-badge.svg\" alt=\"Open In Colab\"/></a>"
      ]
    },
    {
      "cell_type": "markdown",
      "source": [
        "conversão de tipos, coerção\n",
        "type convertion, typecasting, coercion\n",
        "é o ato de converter um tipo em outro\n",
        "tipos imutáveis e primitivos:\n",
        "Str, int, float, bool"
      ],
      "metadata": {
        "id": "rKVHefyf7-Hi"
      }
    },
    {
      "cell_type": "code",
      "execution_count": null,
      "metadata": {
        "id": "VNHtTqcaZvwI"
      },
      "outputs": [],
      "source": [
        "print(int('1'), type(int('1')))\n",
        "print(type(float('1') + 1))\n",
        "print(bool(' '))\n",
        "print(str(11) + 'b')"
      ]
    },
    {
      "cell_type": "markdown",
      "source": [],
      "metadata": {
        "id": "sqX3aec78IK3"
      }
    }
  ]
}