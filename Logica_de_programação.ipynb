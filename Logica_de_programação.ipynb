{
  "nbformat": 4,
  "nbformat_minor": 0,
  "metadata": {
    "colab": {
      "provenance": [],
      "authorship_tag": "ABX9TyN+RK9Pz39yPn9tO+mLXxQk",
      "include_colab_link": true
    },
    "kernelspec": {
      "name": "python3",
      "display_name": "Python 3"
    },
    "language_info": {
      "name": "python"
    }
  },
  "cells": [
    {
      "cell_type": "markdown",
      "metadata": {
        "id": "view-in-github",
        "colab_type": "text"
      },
      "source": [
        "<a href=\"https://colab.research.google.com/github/rockiir/Estudo_Python/blob/main/Logica_de_programa%C3%A7%C3%A3o.ipynb\" target=\"_parent\"><img src=\"https://colab.research.google.com/assets/colab-badge.svg\" alt=\"Open In Colab\"/></a>"
      ]
    },
    {
      "cell_type": "markdown",
      "source": [
        "conversão de tipos, coerção\n",
        "type convertion, typecasting, coercion\n",
        "é o ato de converter um tipo em outro\n",
        "tipos imutáveis e primitivos:\n",
        "Str, int, float, bool"
      ],
      "metadata": {
        "id": "rKVHefyf7-Hi"
      }
    },
    {
      "cell_type": "code",
      "execution_count": 2,
      "metadata": {
        "id": "VNHtTqcaZvwI",
        "colab": {
          "base_uri": "https://localhost:8080/"
        },
        "outputId": "b041660a-2294-49fe-c6fb-3e275405c18b"
      },
      "outputs": [
        {
          "output_type": "stream",
          "name": "stdout",
          "text": [
            "1 <class 'int'>\n",
            "<class 'float'>\n",
            "True\n",
            "11b\n"
          ]
        }
      ],
      "source": [
        "print(int('1'), type(int('1')))\n",
        "print(type(float('1') + 1))\n",
        "print(bool(' '))\n",
        "print(str(11) + 'b')"
      ]
    },
    {
      "cell_type": "markdown",
      "source": [
        "'''\n",
        "# *Strings*\n",
        "'''\n"
      ],
      "metadata": {
        "id": "sqX3aec78IK3"
      }
    },
    {
      "cell_type": "code",
      "source": [
        "'''\n",
        "Strings\n",
        "'''\n",
        "\n",
        "\n",
        "print(12, 34, sep=\"/\") #sep para separador"
      ],
      "metadata": {
        "colab": {
          "base_uri": "https://localhost:8080/"
        },
        "id": "S_3y3jmf_uU1",
        "outputId": "efdccb13-5c89-4b6d-cfe1-309b440614dd"
      },
      "execution_count": 3,
      "outputs": [
        {
          "output_type": "stream",
          "name": "stdout",
          "text": [
            "12/34\n"
          ]
        }
      ]
    },
    {
      "cell_type": "markdown",
      "source": [
        "# Boolean"
      ],
      "metadata": {
        "id": "PhxeEa3f_4jq"
      }
    },
    {
      "cell_type": "code",
      "source": [
        "# Tipo de dado bool (boolean)\n",
        "# Ao questionar algo em um programa,\n",
        "# só existem duas respostas possíveis:\n",
        "# sim (True) ou não (False).\n",
        "# Existem vários operadores para \"questionar\".\n",
        "# Dentre eles o ==, que é um operador lógico que\n",
        "# questiona se um valor é igual a outro\n",
        "print(10 == 10)  # Sim => True (Verdadeiro)\n",
        "print(10 == 11)  # Não => False (Falso)\n",
        "print(type(True))\n",
        "print(type(False))\n",
        "print(type(10 == 10))\n",
        "print(type(10 == 11))"
      ],
      "metadata": {
        "colab": {
          "base_uri": "https://localhost:8080/"
        },
        "id": "x9cnPivo_0rK",
        "outputId": "48910e70-877e-466e-c109-9450e3ad9ece"
      },
      "execution_count": 4,
      "outputs": [
        {
          "output_type": "stream",
          "name": "stdout",
          "text": [
            "True\n",
            "False\n",
            "<class 'bool'>\n",
            "<class 'bool'>\n",
            "<class 'bool'>\n",
            "<class 'bool'>\n"
          ]
        }
      ]
    },
    {
      "cell_type": "markdown",
      "source": [
        "## Crud"
      ],
      "metadata": {
        "id": "9fG-TL1X_-R1"
      }
    },
    {
      "cell_type": "code",
      "source": [
        "\"\"\"\n",
        "Listas em Python\n",
        "Tipo list - Mutável\n",
        "Suporta vários valores de qualquer tipo\n",
        "Conhecimentos reutilizáveis - índices e fatiamento\n",
        "Métodos úteis:\n",
        "    append, insert, pop, del, clear, extend, +\n",
        "Create Read Update   Delete\n",
        "Criar, ler, alterar, apagar = lista[i] (CRUD)\n",
        "\"\"\"\n",
        "#        0   1   2   3   4   5\n",
        "lista = [10, 20, 30, 40]\n",
        "# lista[2] = 300\n",
        "# del lista[2]\n",
        "# print(lista)\n",
        "# print(lista[2])\n",
        "lista.append(50)\n",
        "lista.pop()\n",
        "lista.append(60)\n",
        "lista.append(70)\n",
        "ultimo_valor = lista.pop(3)\n",
        "print(lista, 'Removido,', ultimo_valor)"
      ],
      "metadata": {
        "colab": {
          "base_uri": "https://localhost:8080/"
        },
        "id": "2KVwrbCc_7VI",
        "outputId": "873a9263-2c70-4013-d1c8-0a46739484c3"
      },
      "execution_count": 5,
      "outputs": [
        {
          "output_type": "stream",
          "name": "stdout",
          "text": [
            "[10, 20, 30, 60, 70] Removido, 40\n"
          ]
        }
      ]
    },
    {
      "cell_type": "markdown",
      "source": [
        "## F-Strings"
      ],
      "metadata": {
        "id": "CMizRdojAA6i"
      }
    },
    {
      "cell_type": "code",
      "source": [
        "\"\"\"\n",
        "Formatação básica de strings\n",
        "s - string\n",
        "d - int\n",
        "f - float\n",
        ".<número de dígitos>f\n",
        "x ou X - Hexadecimal\n",
        "(Caractere)(><^)(quantidade)\n",
        "> - Esquerda\n",
        "< - Direita\n",
        "^ - Centro\n",
        "= - Força o número a aparecer antes dos zeros\n",
        "Sinal - + ou -\n",
        "Ex.: 0>-100,.1f\n",
        "Conversion flags - !r !s !a\n",
        "\"\"\"\n",
        "variavel = 'ABC'\n",
        "print(f'{variavel}')\n",
        "print(f'{variavel: >10}')\n",
        "print(f'{variavel: <10}.')\n",
        "print(f'{variavel: ^10}.')\n",
        "print(f'{1000.4873648123746:0=+10,.1f}')\n",
        "print(f'O hexadecimal de 1500 é {1500:08X}')\n",
        "print(f'{variavel!r}')"
      ],
      "metadata": {
        "colab": {
          "base_uri": "https://localhost:8080/"
        },
        "id": "L1B4JUB-ABSj",
        "outputId": "c9ee0c3c-6b34-4ad6-f685-ff94a26917a7"
      },
      "execution_count": 6,
      "outputs": [
        {
          "output_type": "stream",
          "name": "stdout",
          "text": [
            "ABC\n",
            "       ABC\n",
            "ABC       .\n",
            "   ABC    .\n",
            "+001,000.5\n",
            "O hexadecimal de 1500 é 000005DC\n",
            "'ABC'\n"
          ]
        }
      ]
    },
    {
      "cell_type": "markdown",
      "source": [
        "# Flag\n",
        "flag (Bandeira) - Marcar um local\n",
        "None = Não valor\n",
        "\n",
        "is e is not = é ou não é (tipo, valor, identidade)\n",
        "\n",
        "id = Identidade"
      ],
      "metadata": {
        "id": "ie5-7qquASrH"
      }
    },
    {
      "cell_type": "code",
      "source": [
        "\"\"\"\n",
        "Flag (Bandeira) - Marcar um local\n",
        "None = Não valor\n",
        "is e is not = é ou não é (tipo, valor, identidade)\n",
        "id = Identidade\n",
        "\"\"\"\n",
        "condicao = False\n",
        "passou_no_if = None\n",
        "\n",
        "if condicao:\n",
        "    passou_no_if = True\n",
        "    print('Faça algo')\n",
        "else:\n",
        "    print('Não faça algo')\n",
        "\n",
        "\n",
        "if passou_no_if is None:\n",
        "    print('Não passou no if')\n",
        "else:\n",
        "    print('Passou no if')"
      ],
      "metadata": {
        "colab": {
          "base_uri": "https://localhost:8080/"
        },
        "id": "C7giM2ixAQUK",
        "outputId": "d8678c95-63a3-4987-a546-17f5880badb2"
      },
      "execution_count": 7,
      "outputs": [
        {
          "output_type": "stream",
          "name": "stdout",
          "text": [
            "Não faça algo\n",
            "Não passou no if\n"
          ]
        }
      ]
    },
    {
      "cell_type": "markdown",
      "source": [
        "# Interpolação"
      ],
      "metadata": {
        "id": "HV7WHAEoAgmS"
      }
    },
    {
      "cell_type": "code",
      "source": [
        "\"\"\"\n",
        "Interpolação básica de strings\n",
        "s - string\n",
        "d e i - int\n",
        "f - float\n",
        "x e X - Hexadecimal (ABCDEF0123456789)\n",
        "\"\"\"\n",
        "nome = 'Luiz'\n",
        "preco = 1000.95897643\n",
        "variavel = '%s, o preço é R$%.2f' % (nome, preco)\n",
        "print(variavel)\n",
        "print('O hexadecimal de %d é %08X' % (1500, 1500))"
      ],
      "metadata": {
        "colab": {
          "base_uri": "https://localhost:8080/"
        },
        "id": "sCOjGFByAe0g",
        "outputId": "b62b8206-8b7c-4828-a4c8-2410b0a97b5e"
      },
      "execution_count": 8,
      "outputs": [
        {
          "output_type": "stream",
          "name": "stdout",
          "text": [
            "Luiz, o preço é R$1000.96\n",
            "O hexadecimal de 1500 é 000005DC\n"
          ]
        }
      ]
    },
    {
      "cell_type": "markdown",
      "source": [
        "#int e Float"
      ],
      "metadata": {
        "id": "RPq1xdN4AkTD"
      }
    },
    {
      "cell_type": "code",
      "source": [
        "# Tipos int e float\n",
        "# int -> Número inteiro\n",
        "# O tipo int representa qualquer número\n",
        "# positivo ou negativo. int sem sinal é considerado\n",
        "# positivo.\n",
        "# print(11) # int\n",
        "# print(-11) # int\n",
        "# print(0)\n",
        "\n",
        "# float -> Número com ponto flutuante\n",
        "# O tipo float representa qualquer número\n",
        "# positivo ou negativo com ponto flutuante.\n",
        "# float sem sinal é considerado positivo.\n",
        "# print(1.1, 10.11)\n",
        "# print(0.0, -1.5)\n",
        "\n",
        "# A função type mostra o tipo que o Python\n",
        "# inferiu ao valor.\n",
        "print(type('Otávio'))\n",
        "print(type(0))\n",
        "print(type(1.1), type(-1.1), type(0.0))"
      ],
      "metadata": {
        "colab": {
          "base_uri": "https://localhost:8080/"
        },
        "id": "oheDBRmYAj92",
        "outputId": "af860f33-569c-4836-8e82-07443545a2ef"
      },
      "execution_count": 9,
      "outputs": [
        {
          "output_type": "stream",
          "name": "stdout",
          "text": [
            "<class 'str'>\n",
            "<class 'int'>\n",
            "<class 'float'> <class 'float'> <class 'float'>\n"
          ]
        }
      ]
    },
    {
      "cell_type": "markdown",
      "source": [
        "# Listas em listas"
      ],
      "metadata": {
        "id": "xEzOO2fIAs0-"
      }
    },
    {
      "cell_type": "code",
      "source": [
        "\"\"\"\n",
        "Lista de listas e seus índices\n",
        "\"\"\"\n",
        "salas = [\n",
        "    # 0        1\n",
        "    ['Maria', 'Helena', ],  # 0\n",
        "    # 0\n",
        "    ['Elaine', ],  # 1\n",
        "    # 0       1       2\n",
        "    ['Luiz', 'João', 'Eduarda', ],  # 2\n",
        "]\n",
        "\n",
        "# print(salas[1][0])\n",
        "# print(salas[0][1])\n",
        "# print(salas[2][2])\n",
        "# print(salas[2][3][3])\n",
        "\n",
        "for sala in salas:\n",
        "    print(f'A sala é {sala}')\n",
        "    for aluno in sala:\n",
        "        print(aluno)\n"
      ],
      "metadata": {
        "colab": {
          "base_uri": "https://localhost:8080/"
        },
        "id": "LvBWCQc7Asi7",
        "outputId": "1786bd4d-786e-4d14-8429-8f01c97d8dd7"
      },
      "execution_count": 10,
      "outputs": [
        {
          "output_type": "stream",
          "name": "stdout",
          "text": [
            "A sala é ['Maria', 'Helena']\n",
            "Maria\n",
            "Helena\n",
            "A sala é ['Elaine']\n",
            "Elaine\n",
            "A sala é ['Luiz', 'João', 'Eduarda']\n",
            "Luiz\n",
            "João\n",
            "Eduarda\n"
          ]
        }
      ]
    },
    {
      "cell_type": "markdown",
      "source": [
        "# not"
      ],
      "metadata": {
        "id": "WXzyb3JvAxRj"
      }
    },
    {
      "cell_type": "code",
      "source": [
        "# Operador lógico \"not\"\n",
        "# Usado para inverter expressões\n",
        "# not True = False\n",
        "# not False = True\n",
        "# senha = input('Senha: ')\n",
        "print(not True)  # False\n",
        "print(not False)  # True"
      ],
      "metadata": {
        "colab": {
          "base_uri": "https://localhost:8080/"
        },
        "id": "waoDhhHoAxFa",
        "outputId": "b7edfe48-3ed2-413a-a66f-79a02b87154a"
      },
      "execution_count": 11,
      "outputs": [
        {
          "output_type": "stream",
          "name": "stdout",
          "text": [
            "False\n",
            "True\n"
          ]
        }
      ]
    },
    {
      "cell_type": "markdown",
      "source": [
        "# OR"
      ],
      "metadata": {
        "id": "G6GTjl-5A4UG"
      }
    },
    {
      "cell_type": "code",
      "source": [
        "# Operadores lógicos\n",
        "# and (e) or (ou) not (não)\n",
        "# or - Qualquer condição verdadeira avalia\n",
        "# toda a expressão como verdadeira.\n",
        "# Se qualquer valor for considerado verdadeiro,\n",
        "# a expressão inteira será avaliada naquele valor.\n",
        "# São considerados falsy (que vc já viu)\n",
        "# 0 0.0 '' False\n",
        "# Também existe o tipo None que é\n",
        "# usado para representar um não valor\n",
        "\n",
        "# entrada = input('[E]ntrar [S]air: ')\n",
        "# senha_digitada = input('Senha: ')\n",
        "\n",
        "# senha_permitida = '123456'\n",
        "\n",
        "# if (entrada == 'E' or entrada == 'e') and senha_digitada == senha_permitida:\n",
        "#     print('Entrar')\n",
        "# else:\n",
        "#     print('Sair')\n",
        "\n",
        "# Avaliação de curto circuito\n",
        "senha = input('Senha: ') or 'Sem senha'\n",
        "print(senha)"
      ],
      "metadata": {
        "colab": {
          "base_uri": "https://localhost:8080/"
        },
        "id": "K8lSlKDyA4Ee",
        "outputId": "ff23343c-4a07-43d6-91ce-626270ed2f88"
      },
      "execution_count": 12,
      "outputs": [
        {
          "output_type": "stream",
          "name": "stdout",
          "text": [
            "Senha: 123\n",
            "123\n"
          ]
        }
      ]
    },
    {
      "cell_type": "markdown",
      "source": [
        "# Range + For"
      ],
      "metadata": {
        "id": "CdylGLGKA-Zj"
      }
    },
    {
      "cell_type": "code",
      "source": [
        "\"\"\"\n",
        "For + Range\n",
        "range -> range(start, stop, step)\n",
        "\"\"\"\n",
        "numeros = range(0, 100, 8)\n",
        "\n",
        "for numero in numeros:\n",
        "    print(numero)"
      ],
      "metadata": {
        "colab": {
          "base_uri": "https://localhost:8080/"
        },
        "id": "ehhyStSeA-M_",
        "outputId": "7b553d3f-21d9-4b95-8a73-3f9dd64f700a"
      },
      "execution_count": 13,
      "outputs": [
        {
          "output_type": "stream",
          "name": "stdout",
          "text": [
            "0\n",
            "8\n",
            "16\n",
            "24\n",
            "32\n",
            "40\n",
            "48\n",
            "56\n",
            "64\n",
            "72\n",
            "80\n",
            "88\n",
            "96\n"
          ]
        }
      ]
    },
    {
      "cell_type": "markdown",
      "source": [
        "# Try and except"
      ],
      "metadata": {
        "id": "CsnsRc_3BFNO"
      }
    },
    {
      "cell_type": "code",
      "source": [
        "\"\"\"\n",
        "Introdução ao try/except\n",
        "try -> tentar executar o código\n",
        "except -> ocorreu algum erro ao tentar executar\n",
        "\"\"\"\n",
        "numero_str = input(\n",
        "    'Vou dobrar o número que vc digitar: '\n",
        ")\n",
        "\n",
        "try:\n",
        "    numero_float = float(numero_str)\n",
        "    print('FLOAT:', numero_float)\n",
        "    print(f'O dobro de {numero_str} é {numero_float * 2:.2f}')\n",
        "except:\n",
        "    print('Isso não é um número')\n",
        "\n",
        "# if numero_str.isdigit():\n",
        "#     numero_float = float(numero_str)\n",
        "#     print(f'O dobro de {numero_str} é {numero_float * 2:.2f}')\n",
        "# else:\n",
        "#     print('Isso não é um número')"
      ],
      "metadata": {
        "colab": {
          "base_uri": "https://localhost:8080/"
        },
        "id": "_ko-jhz-BFXu",
        "outputId": "2445f3a9-1925-4b17-b441-8b875c99b326"
      },
      "execution_count": 14,
      "outputs": [
        {
          "output_type": "stream",
          "name": "stdout",
          "text": [
            "Vou dobrar o número que vc digitar: 75\n",
            "FLOAT: 75.0\n",
            "O dobro de 75 é 150.00\n"
          ]
        }
      ]
    }
  ]
}